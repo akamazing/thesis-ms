{
 "cells": [
  {
   "cell_type": "code",
   "execution_count": 1,
   "metadata": {},
   "outputs": [
    {
     "name": "stderr",
     "output_type": "stream",
     "text": [
      "/anaconda3/lib/python3.6/site-packages/h5py/__init__.py:36: FutureWarning: Conversion of the second argument of issubdtype from `float` to `np.floating` is deprecated. In future, it will be treated as `np.float64 == np.dtype(float).type`.\n",
      "  from ._conv import register_converters as _register_converters\n"
     ]
    },
    {
     "name": "stdout",
     "output_type": "stream",
     "text": [
      "WARNING:tensorflow:From <ipython-input-1-8c54b2cc943d>:5: read_data_sets (from tensorflow.contrib.learn.python.learn.datasets.mnist) is deprecated and will be removed in a future version.\n",
      "Instructions for updating:\n",
      "Please use alternatives such as official/mnist/dataset.py from tensorflow/models.\n",
      "WARNING:tensorflow:From /anaconda3/lib/python3.6/site-packages/tensorflow/contrib/learn/python/learn/datasets/mnist.py:260: maybe_download (from tensorflow.contrib.learn.python.learn.datasets.base) is deprecated and will be removed in a future version.\n",
      "Instructions for updating:\n",
      "Please write your own downloading logic.\n",
      "WARNING:tensorflow:From /anaconda3/lib/python3.6/site-packages/tensorflow/contrib/learn/python/learn/datasets/mnist.py:262: extract_images (from tensorflow.contrib.learn.python.learn.datasets.mnist) is deprecated and will be removed in a future version.\n",
      "Instructions for updating:\n",
      "Please use tf.data to implement this functionality.\n",
      "Extracting /tmp/data/train-images-idx3-ubyte.gz\n",
      "WARNING:tensorflow:From /anaconda3/lib/python3.6/site-packages/tensorflow/contrib/learn/python/learn/datasets/mnist.py:267: extract_labels (from tensorflow.contrib.learn.python.learn.datasets.mnist) is deprecated and will be removed in a future version.\n",
      "Instructions for updating:\n",
      "Please use tf.data to implement this functionality.\n",
      "Extracting /tmp/data/train-labels-idx1-ubyte.gz\n",
      "Extracting /tmp/data/t10k-images-idx3-ubyte.gz\n",
      "Extracting /tmp/data/t10k-labels-idx1-ubyte.gz\n",
      "WARNING:tensorflow:From /anaconda3/lib/python3.6/site-packages/tensorflow/contrib/learn/python/learn/datasets/mnist.py:290: DataSet.__init__ (from tensorflow.contrib.learn.python.learn.datasets.mnist) is deprecated and will be removed in a future version.\n",
      "Instructions for updating:\n",
      "Please use alternatives such as official/mnist/dataset.py from tensorflow/models.\n"
     ]
    },
    {
     "name": "stderr",
     "output_type": "stream",
     "text": [
      "Using TensorFlow backend.\n"
     ]
    }
   ],
   "source": [
    "from __future__ import division, print_function, absolute_import\n",
    "\n",
    "# Import MNIST data\n",
    "from tensorflow.examples.tutorials.mnist import input_data\n",
    "mnist = input_data.read_data_sets(\"/tmp/data/\", one_hot=False)\n",
    "\n",
    "import tensorflow as tf\n",
    "import matplotlib.pyplot as plt\n",
    "import numpy as np\n",
    "from keras.datasets import mnist as mn\n",
    "from keras.preprocessing.image import ImageDataGenerator\n",
    "from matplotlib import pyplot\n",
    "from keras import backend as K\n",
    "K.set_image_dim_ordering('th')"
   ]
  },
  {
   "cell_type": "code",
   "execution_count": 2,
   "metadata": {},
   "outputs": [],
   "source": [
    "# Training Parameters\n",
    "learning_rate = 0.001\n",
    "num_steps = 500\n",
    "batch_size = 128\n",
    "\n",
    "# Network Parameters\n",
    "num_input = 784 # MNIST data input (img shape: 28*28)\n",
    "num_classes = 10 # MNIST total classes (0-9 digits)\n",
    "dropout = 0.25 # Dropout, probability to drop a unit"
   ]
  },
  {
   "cell_type": "code",
   "execution_count": 3,
   "metadata": {},
   "outputs": [],
   "source": [
    "# Create the neural network\n",
    "def conv_net(x_dict, n_classes, dropout, reuse, is_training):\n",
    "    \n",
    "    # Define a scope for reusing the variables\n",
    "    with tf.variable_scope('ConvNet', reuse=reuse):\n",
    "        # TF Estimator input is a dict, in case of multiple inputs\n",
    "        x = x_dict['images']\n",
    "\n",
    "        # MNIST data input is a 1-D vector of 784 features (28*28 pixels)\n",
    "        # Reshape to match picture format [Height x Width x Channel]\n",
    "        # Tensor input become 4-D: [Batch Size, Height, Width, Channel]\n",
    "        x = tf.reshape(x, shape=[-1, 28, 28, 1])\n",
    "\n",
    "        # Convolution Layer with 32 filters \n",
    "        conv1 = tf.layers.conv2d(x, 32, 5, activation=tf.nn.relu)\n",
    "\n",
    "        # Convolution Layer with 64 filters \n",
    "        conv2 = tf.layers.conv2d(conv1, 64, 3, activation=tf.nn.relu)\n",
    "\n",
    "        # Flatten the data to a 1-D vector for the fully connected layer\n",
    "        fc1 = tf.contrib.layers.flatten(conv2)\n",
    "\n",
    "        # Fully connected layer (in tf contrib folder for now)\n",
    "        fc1 = tf.layers.dense(fc1, 1024)\n",
    "        # Apply Dropout (if is_training is False, dropout is not applied)\n",
    "        fc1 = tf.layers.dropout(fc1, rate=dropout, training=is_training)\n",
    "\n",
    "        # Output layer, class prediction\n",
    "        out = tf.layers.dense(fc1, n_classes)\n",
    "\n",
    "    return out\n"
   ]
  },
  {
   "cell_type": "code",
   "execution_count": 4,
   "metadata": {},
   "outputs": [],
   "source": [
    "# Define the model function (following TF Estimator Template)\n",
    "def model_fn(features, labels, mode):\n",
    "    \n",
    "    # Build the neural network\n",
    "    # Because Dropout have different behavior at training and prediction time, we\n",
    "    # need to create 2 distinct computation graphs that still share the same weights.\n",
    "    logits_train = conv_net(features, num_classes, dropout, reuse=False, is_training=True)\n",
    "    logits_test = conv_net(features, num_classes, dropout, reuse=True, is_training=False)\n",
    "    \n",
    "    # Predictions\n",
    "    pred_classes = tf.argmax(logits_test, axis=1)\n",
    "    pred_probas = tf.nn.softmax(logits_test)\n",
    "    \n",
    "    # If prediction mode, early return\n",
    "    if mode == tf.estimator.ModeKeys.PREDICT:\n",
    "        return tf.estimator.EstimatorSpec(mode, predictions=pred_classes) \n",
    "        \n",
    "    # Define loss and optimizer\n",
    "    loss_op = tf.reduce_mean(tf.nn.sparse_softmax_cross_entropy_with_logits(\n",
    "        logits=logits_train, labels=tf.cast(labels, dtype=tf.int32)))\n",
    "    optimizer = tf.train.AdamOptimizer(learning_rate=learning_rate)\n",
    "    train_op = optimizer.minimize(loss_op, global_step=tf.train.get_global_step())\n",
    "    \n",
    "    # Evaluate the accuracy of the model\n",
    "    acc_op = tf.metrics.accuracy(labels=labels, predictions=pred_classes)\n",
    "    \n",
    "    # TF Estimators requires to return a EstimatorSpec, that specify\n",
    "    # the different ops for training, evaluating, ...\n",
    "    estim_specs = tf.estimator.EstimatorSpec(\n",
    "      mode=mode,\n",
    "      predictions=pred_classes,\n",
    "      loss=loss_op,\n",
    "      train_op=train_op,\n",
    "      eval_metric_ops={'accuracy': acc_op})\n",
    "\n",
    "    return estim_specs"
   ]
  },
  {
   "cell_type": "code",
   "execution_count": 5,
   "metadata": {},
   "outputs": [
    {
     "name": "stdout",
     "output_type": "stream",
     "text": [
      "INFO:tensorflow:Using default config.\n",
      "WARNING:tensorflow:Using temporary folder as model directory: /var/folders/33/cbwqx9c11lgfbcvwxr2yf6jm0000gn/T/tmpv70waum0\n",
      "INFO:tensorflow:Using config: {'_model_dir': '/var/folders/33/cbwqx9c11lgfbcvwxr2yf6jm0000gn/T/tmpv70waum0', '_tf_random_seed': None, '_save_summary_steps': 100, '_save_checkpoints_steps': None, '_save_checkpoints_secs': 600, '_session_config': None, '_keep_checkpoint_max': 5, '_keep_checkpoint_every_n_hours': 10000, '_log_step_count_steps': 100, '_train_distribute': None, '_device_fn': None, '_service': None, '_cluster_spec': <tensorflow.python.training.server_lib.ClusterSpec object at 0x1c44ce0748>, '_task_type': 'worker', '_task_id': 0, '_global_id_in_cluster': 0, '_master': '', '_evaluation_master': '', '_is_chief': True, '_num_ps_replicas': 0, '_num_worker_replicas': 1}\n"
     ]
    }
   ],
   "source": [
    "# Build the Estimator\n",
    "model = tf.estimator.Estimator(model_fn)"
   ]
  },
  {
   "cell_type": "code",
   "execution_count": 6,
   "metadata": {},
   "outputs": [
    {
     "name": "stdout",
     "output_type": "stream",
     "text": [
      "INFO:tensorflow:Calling model_fn.\n",
      "INFO:tensorflow:Done calling model_fn.\n",
      "INFO:tensorflow:Create CheckpointSaverHook.\n",
      "INFO:tensorflow:Graph was finalized.\n",
      "INFO:tensorflow:Running local_init_op.\n",
      "INFO:tensorflow:Done running local_init_op.\n",
      "INFO:tensorflow:Saving checkpoints for 0 into /var/folders/33/cbwqx9c11lgfbcvwxr2yf6jm0000gn/T/tmpv70waum0/model.ckpt.\n",
      "INFO:tensorflow:loss = 2.3078117, step = 1\n",
      "INFO:tensorflow:global_step/sec: 2.3904\n",
      "INFO:tensorflow:loss = 0.10088459, step = 101 (41.836 sec)\n",
      "INFO:tensorflow:global_step/sec: 2.43471\n",
      "INFO:tensorflow:loss = 0.055165537, step = 201 (41.072 sec)\n",
      "INFO:tensorflow:global_step/sec: 2.40428\n",
      "INFO:tensorflow:loss = 0.11226711, step = 301 (41.593 sec)\n",
      "INFO:tensorflow:global_step/sec: 2.32123\n",
      "INFO:tensorflow:loss = 0.08561884, step = 401 (43.080 sec)\n",
      "INFO:tensorflow:Saving checkpoints for 500 into /var/folders/33/cbwqx9c11lgfbcvwxr2yf6jm0000gn/T/tmpv70waum0/model.ckpt.\n",
      "INFO:tensorflow:Loss for final step: 0.037181996.\n"
     ]
    },
    {
     "data": {
      "text/plain": [
       "<tensorflow.python.estimator.estimator.Estimator at 0x1c44ce07f0>"
      ]
     },
     "execution_count": 6,
     "metadata": {},
     "output_type": "execute_result"
    }
   ],
   "source": [
    "# Define the input function for training\n",
    "X_tr={'images': mnist.train.images}\n",
    "Y_tr=mnist.train.labels\n",
    "input_fn = tf.estimator.inputs.numpy_input_fn(\n",
    "    x=X_tr, y=Y_tr,\n",
    "    batch_size=batch_size, num_epochs=None, shuffle=True)\n",
    "# Train the Model\n",
    "model.train(input_fn, steps=num_steps)"
   ]
  },
  {
   "cell_type": "code",
   "execution_count": 7,
   "metadata": {},
   "outputs": [
    {
     "name": "stdout",
     "output_type": "stream",
     "text": [
      "INFO:tensorflow:Calling model_fn.\n",
      "INFO:tensorflow:Done calling model_fn.\n",
      "INFO:tensorflow:Starting evaluation at 2018-09-10-15:27:55\n",
      "INFO:tensorflow:Graph was finalized.\n",
      "INFO:tensorflow:Restoring parameters from /var/folders/33/cbwqx9c11lgfbcvwxr2yf6jm0000gn/T/tmpv70waum0/model.ckpt-500\n",
      "INFO:tensorflow:Running local_init_op.\n",
      "INFO:tensorflow:Done running local_init_op.\n",
      "INFO:tensorflow:Finished evaluation at 2018-09-10-15:28:05\n",
      "INFO:tensorflow:Saving dict for global step 500: accuracy = 0.9807, global_step = 500, loss = 0.060304478\n",
      "INFO:tensorflow:Saving 'checkpoint_path' summary for global step 500: /var/folders/33/cbwqx9c11lgfbcvwxr2yf6jm0000gn/T/tmpv70waum0/model.ckpt-500\n"
     ]
    },
    {
     "data": {
      "text/plain": [
       "{'accuracy': 0.9807, 'loss': 0.060304478, 'global_step': 500}"
      ]
     },
     "execution_count": 7,
     "metadata": {},
     "output_type": "execute_result"
    }
   ],
   "source": [
    "# Evaluate the Model\n",
    "# Define the input function for evaluating\n",
    "input_fn = tf.estimator.inputs.numpy_input_fn(\n",
    "    x={'images': mnist.test.images}, y=mnist.test.labels,\n",
    "    batch_size=batch_size, shuffle=False)\n",
    "# Use the Estimator 'evaluate' method\n",
    "model.evaluate(input_fn)"
   ]
  },
  {
   "cell_type": "code",
   "execution_count": 56,
   "metadata": {},
   "outputs": [
    {
     "name": "stdout",
     "output_type": "stream",
     "text": [
      "[[[[-0.06705093 -0.06604195 -0.06944847 ... -0.06493378 -0.0645752\n",
      "    -0.06321716]\n",
      "   [-0.06451416 -0.06414795 -0.06489563 ... -0.06441879 -0.06435394\n",
      "    -0.06430435]\n",
      "   [-0.06424713 -0.0644722  -0.06420135 ... -0.0643692  -0.06428528\n",
      "    -0.06440735]\n",
      "   ...\n",
      "   [-0.06441116 -0.06438446 -0.06443405 ... -0.06435394 -0.06437683\n",
      "    -0.06438828]\n",
      "   [-0.0643425  -0.06437683 -0.06439972 ... -0.0643692  -0.06439209\n",
      "    -0.06437683]\n",
      "   [-0.06437683 -0.06437683 -0.06438446 ... -0.06448746 -0.06409836\n",
      "    -0.0644455 ]]]\n",
      "\n",
      "\n",
      " [[[-0.03505898 -0.03492737 -0.03902817 ... -0.03573608 -0.03445435\n",
      "    -0.03412628]\n",
      "   [-0.03551483 -0.03513336 -0.03618622 ... -0.03578186 -0.0357666\n",
      "    -0.0357933 ]\n",
      "   [-0.03557205 -0.03586197 -0.0356102  ... -0.03583527 -0.03557587\n",
      "    -0.03588867]\n",
      "   ...\n",
      "   [-0.0358429  -0.03583527 -0.0358429  ... -0.03577805 -0.0357933\n",
      "    -0.03581238]\n",
      "   [-0.03575897 -0.03579712 -0.03580093 ... -0.03578186 -0.03580475\n",
      "    -0.03579712]\n",
      "   [-0.03578949 -0.03578949 -0.03580093 ... -0.0357132  -0.03604507\n",
      "    -0.03562164]]]\n",
      "\n",
      "\n",
      " [[[-0.02546692 -0.02596283 -0.02546692 ... -0.0259819  -0.02473068\n",
      "    -0.02557755]\n",
      "   [-0.02575302 -0.02499771 -0.02366257 ... -0.02485275 -0.02495575\n",
      "    -0.02494049]\n",
      "   [-0.02497482 -0.0248909  -0.02493668 ... -0.02490997 -0.0252533\n",
      "    -0.02496719]\n",
      "   ...\n",
      "   [-0.02497101 -0.02505493 -0.02497864 ... -0.02497482 -0.02499008\n",
      "    -0.02500534]\n",
      "   [-0.02494812 -0.02501297 -0.02501678 ... -0.02498627 -0.02501297\n",
      "    -0.02500153]\n",
      "   [-0.02500153 -0.02499771 -0.02501678 ... -0.02510071 -0.02489853\n",
      "    -0.02513123]]]\n",
      "\n",
      "\n",
      " ...\n",
      "\n",
      "\n",
      " [[[-0.03621674 -0.03598022 -0.03695679 ... -0.0370636  -0.03490829\n",
      "    -0.0372467 ]\n",
      "   [-0.03697968 -0.037117   -0.03658676 ... -0.03613281 -0.03616714\n",
      "    -0.0362854 ]\n",
      "   [-0.03625488 -0.03630066 -0.03612137 ... -0.03628922 -0.03636932\n",
      "    -0.03646088]\n",
      "   ...\n",
      "   [-0.03614426 -0.03630447 -0.0361824  ... -0.03623962 -0.03621674\n",
      "    -0.03622055]\n",
      "   [-0.03621674 -0.03625107 -0.03624725 ... -0.03620529 -0.03625488\n",
      "    -0.03622055]\n",
      "   [-0.03622055 -0.03624344 -0.03626633 ... -0.03610611 -0.03604507\n",
      "    -0.03655624]]]\n",
      "\n",
      "\n",
      " [[[-0.03114319 -0.03266716 -0.02926636 ... -0.03141403 -0.02991867\n",
      "    -0.03106308]\n",
      "   [-0.03090668 -0.03098297 -0.03161621 ... -0.03119659 -0.0312233\n",
      "    -0.03147507]\n",
      "   [-0.03131866 -0.03165054 -0.03118134 ... -0.031353   -0.03126907\n",
      "    -0.03165436]\n",
      "   ...\n",
      "   [-0.03145027 -0.03142738 -0.03142166 ... -0.03139305 -0.03140831\n",
      "    -0.03143501]\n",
      "   [-0.03136635 -0.03142548 -0.03142357 ... -0.03138542 -0.03141212\n",
      "    -0.03141212]\n",
      "   [-0.03140831 -0.0314045  -0.03141403 ... -0.03131866 -0.03163147\n",
      "    -0.03076172]]]\n",
      "\n",
      "\n",
      " [[[-0.02044296 -0.02050018 -0.01950455 ... -0.02040482 -0.01869965\n",
      "    -0.01869202]\n",
      "   [-0.0198288  -0.01940536 -0.0217514  ... -0.01959229 -0.01950073\n",
      "    -0.01967621]\n",
      "   [-0.01924515 -0.01959991 -0.01941299 ... -0.01973724 -0.01956558\n",
      "    -0.01968002]\n",
      "   ...\n",
      "   [-0.01966858 -0.01967621 -0.01965332 ... -0.01962662 -0.01965332\n",
      "    -0.01965332]\n",
      "   [-0.0195961  -0.01966095 -0.01966095 ... -0.01963806 -0.01965332\n",
      "    -0.01964951]\n",
      "   [-0.01964951 -0.01964951 -0.01966858 ... -0.01950836 -0.01955795\n",
      "    -0.01992035]]]]\n",
      "INFO:tensorflow:Calling model_fn.\n",
      "INFO:tensorflow:Done calling model_fn.\n"
     ]
    },
    {
     "name": "stderr",
     "output_type": "stream",
     "text": [
      "/anaconda3/lib/python3.6/site-packages/keras_preprocessing/image.py:787: UserWarning: This ImageDataGenerator specifies `zca_whitening`, which overrides setting of `featurewise_center`.\n",
      "  warnings.warn('This ImageDataGenerator specifies '\n"
     ]
    },
    {
     "name": "stdout",
     "output_type": "stream",
     "text": [
      "INFO:tensorflow:Graph was finalized.\n",
      "INFO:tensorflow:Restoring parameters from /var/folders/33/cbwqx9c11lgfbcvwxr2yf6jm0000gn/T/tmpv70waum0/model.ckpt-500\n",
      "INFO:tensorflow:Running local_init_op.\n",
      "INFO:tensorflow:Done running local_init_op.\n"
     ]
    },
    {
     "data": {
      "image/png": "[encoded data removed]",
      "text/plain": [
       "<Figure size 432x288 with 1 Axes>"
      ]
     },
     "metadata": {},
     "output_type": "display_data"
    },
    {
     "name": "stdout",
     "output_type": "stream",
     "text": [
      "Model prediction: 1\n"
     ]
    },
    {
     "data": {
      "image/png": "[encoded data removed]",
      "text/plain": [
       "<Figure size 432x288 with 1 Axes>"
      ]
     },
     "metadata": {},
     "output_type": "display_data"
    },
    {
     "name": "stdout",
     "output_type": "stream",
     "text": [
      "Model prediction: 2\n"
     ]
    },
    {
     "data": {
      "image/png": "[encoded data removed]",
      "text/plain": [
       "<Figure size 432x288 with 1 Axes>"
      ]
     },
     "metadata": {},
     "output_type": "display_data"
    },
    {
     "name": "stdout",
     "output_type": "stream",
     "text": [
      "Model prediction: 9\n"
     ]
    },
    {
     "data": {
      "image/png": "[encoded data removed]",
      "text/plain": [
       "<Figure size 432x288 with 1 Axes>"
      ]
     },
     "metadata": {},
     "output_type": "display_data"
    },
    {
     "name": "stdout",
     "output_type": "stream",
     "text": [
      "Model prediction: 6\n"
     ]
    },
    {
     "data": {
      "image/png": "[encoded data removed]",
      "text/plain": [
       "<Figure size 432x288 with 1 Axes>"
      ]
     },
     "metadata": {},
     "output_type": "display_data"
    },
    {
     "name": "stdout",
     "output_type": "stream",
     "text": [
      "Model prediction: 0\n"
     ]
    },
    {
     "data": {
      "image/png": "[encoded data removed]",
      "text/plain": [
       "<Figure size 432x288 with 1 Axes>"
      ]
     },
     "metadata": {},
     "output_type": "display_data"
    },
    {
     "name": "stdout",
     "output_type": "stream",
     "text": [
      "Model prediction: 4\n"
     ]
    },
    {
     "data": {
      "image/png": "[encoded data removed]",
      "text/plain": [
       "<Figure size 432x288 with 1 Axes>"
      ]
     },
     "metadata": {},
     "output_type": "display_data"
    },
    {
     "name": "stdout",
     "output_type": "stream",
     "text": [
      "Model prediction: 0\n"
     ]
    },
    {
     "data": {
      "image/png": "[encoded data removed]",
      "text/plain": [
       "<Figure size 432x288 with 1 Axes>"
      ]
     },
     "metadata": {},
     "output_type": "display_data"
    },
    {
     "name": "stdout",
     "output_type": "stream",
     "text": [
      "Model prediction: 9\n"
     ]
    },
    {
     "data": {
      "image/png": "[encoded data removed]",
      "text/plain": [
       "<Figure size 432x288 with 1 Axes>"
      ]
     },
     "metadata": {},
     "output_type": "display_data"
    },
    {
     "name": "stdout",
     "output_type": "stream",
     "text": [
      "Model prediction: 7\n"
     ]
    },
    {
     "data": {
      "image/png": "[encoded data removed]",
      "text/plain": [
       "<Figure size 432x288 with 1 Axes>"
      ]
     },
     "metadata": {},
     "output_type": "display_data"
    },
    {
     "name": "stdout",
     "output_type": "stream",
     "text": [
      "Model prediction: 1\n"
     ]
    },
    {
     "data": {
      "image/png": "[encoded data removed]",
      "text/plain": [
       "<Figure size 432x288 with 1 Axes>"
      ]
     },
     "metadata": {},
     "output_type": "display_data"
    },
    {
     "name": "stdout",
     "output_type": "stream",
     "text": [
      "Model prediction: 4\n"
     ]
    },
    {
     "data": {
      "image/png": "[encoded data removed]",
      "text/plain": [
       "<Figure size 432x288 with 1 Axes>"
      ]
     },
     "metadata": {},
     "output_type": "display_data"
    },
    {
     "name": "stdout",
     "output_type": "stream",
     "text": [
      "Model prediction: 9\n"
     ]
    },
    {
     "data": {
      "image/png": "[encoded data removed]",
      "text/plain": [
       "<Figure size 432x288 with 1 Axes>"
      ]
     },
     "metadata": {},
     "output_type": "display_data"
    },
    {
     "name": "stdout",
     "output_type": "stream",
     "text": [
      "Model prediction: 2\n"
     ]
    },
    {
     "data": {
      "image/png": "[encoded data removed]",
      "text/plain": [
       "<Figure size 432x288 with 1 Axes>"
      ]
     },
     "metadata": {},
     "output_type": "display_data"
    },
    {
     "name": "stdout",
     "output_type": "stream",
     "text": [
      "Model prediction: 6\n"
     ]
    }
   ],
   "source": [
    "# Predict single images\n",
    "n_images = 14\n",
    "# Get images from test set\n",
    "test_images = mnist.test.images[:n_images]\n",
    "test_label=mnist.train.labels[:n_images]\n",
    "# Prepare the input data\n",
    "(X_train, y_train), (X_test, y_test) = mn.load_data()\n",
    "# # reshape to be [samples][pixels][width][height]\n",
    "X_test = test_images\n",
    "y_test = test_label\n",
    "X_test = X_test.reshape(X_test.shape[0], 1, 28, 28)\n",
    "# # convert from int to float\n",
    "X_test = X_test.astype('float32')\n",
    "# define data preparation\n",
    "datagen = ImageDataGenerator(zca_whitening=True)\n",
    "# fit parameters from data\n",
    "datagen.fit(X_test)\n",
    "# configure batch size and retrieve one batch of images\n",
    "tmp\n",
    "for X_batch, y_batch in datagen.flow(X_test, y_test, batch_size=14):\n",
    "    print(X_batch)\n",
    "    tmp = X_batch\n",
    "    # create a grid of 3x3 images\n",
    "#     for i in range(0, 14):\n",
    "#         pyplot.subplot(330 + 1 + i)\n",
    "        #pyplot.imshow(X_batch[i].reshape(28, 28), cmap=pyplot.get_cmap('gray'))\n",
    "#         tmp.append(X_batch[i])\n",
    "        # show the plot\n",
    "        #pyplot.show()\n",
    "    break\n",
    "\n",
    "\n",
    "x_te={'images': tmp}\n",
    "input_fn = tf.estimator.inputs.numpy_input_fn(\n",
    "    x=x_te, shuffle=False)\n",
    "# Use the model to predict the images class\n",
    "preds = list(model.predict(input_fn))\n",
    "\n",
    "# Display\n",
    "for i in range(n_images):\n",
    "    plt.imshow(np.reshape(tmp[i], [28, 28]), cmap='gray')\n",
    "    plt.show()\n",
    "    print(\"Model prediction:\", preds[i])"
   ]
  },
  {
   "cell_type": "code",
   "execution_count": 45,
   "metadata": {},
   "outputs": [
    {
     "data": {
      "image/png": "[encoded data removed]",
      "text/plain": [
       "<Figure size 432x288 with 9 Axes>"
      ]
     },
     "metadata": {},
     "output_type": "display_data"
    },
    {
     "name": "stdout",
     "output_type": "stream",
     "text": [
      "INFO:tensorflow:Calling model_fn.\n",
      "INFO:tensorflow:Done calling model_fn.\n",
      "INFO:tensorflow:Graph was finalized.\n",
      "INFO:tensorflow:Restoring parameters from /var/folders/33/cbwqx9c11lgfbcvwxr2yf6jm0000gn/T/tmps9f4b0j0/model.ckpt-1000\n",
      "INFO:tensorflow:Running local_init_op.\n",
      "INFO:tensorflow:Done running local_init_op.\n"
     ]
    }
   ],
   "source": [
    "# Predict single images\n",
    "n_images = 14\n",
    "# Get images from test set\n",
    "test_images = mnist.test.images[:n_images]\n",
    "test_label=mnist.train.labels[:n_images]\n",
    "# Prepare the input data\n",
    "\n",
    "# # reshape to be [samples][pixels][width][height]\n",
    "X_test = test_images\n",
    "y_test = test_label\n",
    "X_test = X_test.reshape(X_test.shape[0], 1, 28, 28)\n",
    "# # convert from int to float\n",
    "X_test = X_test.astype('float32')\n",
    "# define data preparation\n",
    "\n",
    "datagen = ImageDataGenerator(featurewise_center=True, featurewise_std_normalization=True)\n",
    "# fit parameters from data\n",
    "datagen.fit(X_test)\n",
    "# configure batch size and retrieve one batch of images\n",
    "for X_batch, y_batch in datagen.flow(X_test, y_test, batch_size=9):\n",
    "\t# create a grid of 3x3 images\n",
    "\tfor i in range(0, 9):\n",
    "\t\tpyplot.subplot(330 + 1 + i)\n",
    "\t\tpyplot.imshow(X_batch[i].reshape(28, 28), cmap=pyplot.get_cmap('gray'))\n",
    "\t# show the plot\n",
    "\tpyplot.show()\n",
    "\tbreak\n",
    "    \n",
    "x_te={'images': test_images}\n",
    "input_fn = tf.estimator.inputs.numpy_input_fn(\n",
    "    x=x_te, shuffle=False)\n",
    "# Use the model to predict the images class\n",
    "preds = list(model.predict(input_fn))\n",
    "\n",
    "# # Display\n",
    "# for i in range(n_images):\n",
    "#     plt.imshow(np.reshape(test_images[i], [28, 28]), cmap='gray')\n",
    "#     plt.show()\n",
    "#     print(\"Model prediction:\", preds[i])"
   ]
  },
  {
   "cell_type": "code",
   "execution_count": 50,
   "metadata": {},
   "outputs": [
    {
     "data": {
      "image/png": "[encoded data removed]",
      "text/plain": [
       "<Figure size 432x288 with 9 Axes>"
      ]
     },
     "metadata": {},
     "output_type": "display_data"
    },
    {
     "name": "stdout",
     "output_type": "stream",
     "text": [
      "INFO:tensorflow:Calling model_fn.\n",
      "INFO:tensorflow:Done calling model_fn.\n",
      "INFO:tensorflow:Graph was finalized.\n",
      "INFO:tensorflow:Restoring parameters from /var/folders/33/cbwqx9c11lgfbcvwxr2yf6jm0000gn/T/tmps9f4b0j0/model.ckpt-1000\n",
      "INFO:tensorflow:Running local_init_op.\n",
      "INFO:tensorflow:Done running local_init_op.\n"
     ]
    }
   ],
   "source": [
    "# Predict single images\n",
    "n_images = 14\n",
    "# Get images from test set\n",
    "test_images = mnist.test.images[:n_images]\n",
    "test_label=mnist.train.labels[:n_images]\n",
    "# Prepare the input data\n",
    "\n",
    "# # reshape to be [samples][pixels][width][height]\n",
    "X_test = test_images\n",
    "y_test = test_label\n",
    "X_test = X_test.reshape(X_test.shape[0], 1, 28, 28)\n",
    "# # convert from int to float\n",
    "X_test = X_test.astype('float32')\n",
    "# define data preparation\n",
    "\n",
    "datagen = ImageDataGenerator(rotation_range=45)\n",
    "# fit parameters from data\n",
    "datagen.fit(X_test)\n",
    "# configure batch size and retrieve one batch of images\n",
    "for X_batch, y_batch in datagen.flow(X_test, y_test, batch_size=9):\n",
    "\t# create a grid of 3x3 images\n",
    "\tfor i in range(0, 9):\n",
    "\t\tpyplot.subplot(330 + 1 + i)\n",
    "\t\tpyplot.imshow(X_batch[i].reshape(28, 28), cmap=pyplot.get_cmap('gray'))\n",
    "\t# show the plot\n",
    "\tpyplot.show()\n",
    "\tbreak\n",
    "    \n",
    "x_te={'images': test_images}\n",
    "input_fn = tf.estimator.inputs.numpy_input_fn(\n",
    "    x=x_te, shuffle=False)\n",
    "# Use the model to predict the images class\n",
    "preds = list(model.predict(input_fn))\n",
    "\n",
    "# # Display\n",
    "# for i in range(n_images):\n",
    "#     plt.imshow(np.reshape(test_images[i], [28, 28]), cmap='gray')\n",
    "#     plt.show()\n",
    "#     print(\"Model prediction:\", preds[i])"
   ]
  },
  {
   "cell_type": "code",
   "execution_count": 51,
   "metadata": {},
   "outputs": [
    {
     "data": {
      "image/png": "[encoded data removed]",
      "text/plain": [
       "<Figure size 432x288 with 9 Axes>"
      ]
     },
     "metadata": {},
     "output_type": "display_data"
    },
    {
     "name": "stdout",
     "output_type": "stream",
     "text": [
      "INFO:tensorflow:Calling model_fn.\n",
      "INFO:tensorflow:Done calling model_fn.\n",
      "INFO:tensorflow:Graph was finalized.\n",
      "INFO:tensorflow:Restoring parameters from /var/folders/33/cbwqx9c11lgfbcvwxr2yf6jm0000gn/T/tmps9f4b0j0/model.ckpt-1000\n",
      "INFO:tensorflow:Running local_init_op.\n",
      "INFO:tensorflow:Done running local_init_op.\n"
     ]
    }
   ],
   "source": [
    "# Predict single images\n",
    "n_images = 14\n",
    "# Get images from test set\n",
    "test_images = mnist.test.images[:n_images]\n",
    "test_label=mnist.train.labels[:n_images]\n",
    "# Prepare the input data\n",
    "\n",
    "# # reshape to be [samples][pixels][width][height]\n",
    "X_test = test_images\n",
    "y_test = test_label\n",
    "X_test = X_test.reshape(X_test.shape[0], 1, 28, 28)\n",
    "# # convert from int to float\n",
    "X_test = X_test.astype('float32')\n",
    "# define data preparation\n",
    "\n",
    "shift = 0.2\n",
    "datagen = ImageDataGenerator(width_shift_range=shift, height_shift_range=shift)# fit parameters from data\n",
    "datagen.fit(X_test)\n",
    "# configure batch size and retrieve one batch of images\n",
    "for X_batch, y_batch in datagen.flow(X_test, y_test, batch_size=9):\n",
    "\t# create a grid of 3x3 images\n",
    "\tfor i in range(0, 9):\n",
    "\t\tpyplot.subplot(330 + 1 + i)\n",
    "\t\tpyplot.imshow(X_batch[i].reshape(28, 28), cmap=pyplot.get_cmap('gray'))\n",
    "\t# show the plot\n",
    "\tpyplot.show()\n",
    "\tbreak\n",
    "    \n",
    "x_te={'images': test_images}\n",
    "input_fn = tf.estimator.inputs.numpy_input_fn(\n",
    "    x=x_te, shuffle=False)\n",
    "# Use the model to predict the images class\n",
    "preds = list(model.predict(input_fn))\n",
    "\n",
    "# # Display\n",
    "# for i in range(n_images):\n",
    "#     plt.imshow(np.reshape(test_images[i], [28, 28]), cmap='gray')\n",
    "#     plt.show()\n",
    "#     print(\"Model prediction:\", preds[i])"
   ]
  },
  {
   "cell_type": "code",
   "execution_count": null,
   "metadata": {},
   "outputs": [],
   "source": []
  }
 ],
 "metadata": {
  "kernelspec": {
   "display_name": "Python 3",
   "language": "python",
   "name": "python3"
  },
  "language_info": {
   "codemirror_mode": {
    "name": "ipython",
    "version": 3
   },
   "file_extension": ".py",
   "mimetype": "text/x-python",
   "name": "python",
   "nbconvert_exporter": "python",
   "pygments_lexer": "ipython3",
   "version": "3.6.5"
  }
 },
 "nbformat": 4,
 "nbformat_minor": 2
}
