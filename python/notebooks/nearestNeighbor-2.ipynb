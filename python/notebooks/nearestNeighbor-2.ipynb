{
 "cells": [
  {
   "cell_type": "code",
   "execution_count": 3,
   "metadata": {},
   "outputs": [
    {
     "name": "stdout",
     "output_type": "stream",
     "text": [
      "Extracting data/train-images-idx3-ubyte.gz\n",
      "Extracting data/train-labels-idx1-ubyte.gz\n",
      "Extracting data/t10k-images-idx3-ubyte.gz\n",
      "Extracting data/t10k-labels-idx1-ubyte.gz\n",
      "Test 0 Prediction: 0 True Class: 0\n",
      "Test 1 Prediction: 9 True Class: 9\n",
      "Test 2 Prediction: 8 True Class: 8\n",
      "Test 3 Prediction: 4 True Class: 4\n",
      "Test 4 Prediction: 3 True Class: 3\n",
      "Test 5 Prediction: 8 True Class: 8\n",
      "Test 6 Prediction: 7 True Class: 7\n",
      "Test 7 Prediction: 1 True Class: 1\n",
      "Test 8 Prediction: 4 True Class: 4\n",
      "Test 9 Prediction: 5 True Class: 5\n",
      "Test 10 Prediction: 5 True Class: 5\n",
      "Test 11 Prediction: 1 True Class: 1\n",
      "Test 12 Prediction: 6 True Class: 6\n",
      "Test 13 Prediction: 5 True Class: 5\n",
      "Test 14 Prediction: 4 True Class: 4\n",
      "Test 15 Prediction: 8 True Class: 8\n",
      "Test 16 Prediction: 9 True Class: 9\n",
      "Test 17 Prediction: 5 True Class: 5\n",
      "Test 18 Prediction: 4 True Class: 4\n",
      "Test 19 Prediction: 9 True Class: 9\n",
      "Done!\n",
      "Accuracy: 1.0000000000000002\n"
     ]
    }
   ],
   "source": [
    "from __future__ import print_function\n",
    "\n",
    "import numpy as np\n",
    "import tensorflow as tf\n",
    "import matplotlib.pyplot as plt\n",
    "# Import MNIST data\n",
    "from tensorflow.examples.tutorials.mnist import input_data\n",
    "mnist = input_data.read_data_sets(\"data/\", one_hot=True)\n",
    "\n",
    "# In this example, we limit mnist data\n",
    "Xtr, Ytr = mnist.train.next_batch(10000) #5000 for training (nn candidates)\n",
    "Xte, Yte = mnist.test.next_batch(20) #200 for testing\n",
    "\n",
    "\n",
    "# tf Graph Input\n",
    "xtr = tf.placeholder(\"float\", [None, 784])\n",
    "xte = tf.placeholder(\"float\", [784])\n",
    "\n",
    "# Nearest Neighbor calculation using L1 Distance\n",
    "# Calculate L1 Distance\n",
    "distance = tf.reduce_sum(tf.abs(tf.add(xtr, tf.negative(xte))), reduction_indices=1)\n",
    "# Prediction: Get min distance index (Nearest neighbor)\n",
    "pred = tf.arg_min(distance, 0)\n",
    "\n",
    "accuracy = 0.\n",
    "\n",
    "init = tf.global_variables_initializer()\n",
    "\n",
    "# Start training\n",
    "with tf.Session() as sess:\n",
    "\n",
    "    # Run the initializer\n",
    "    sess.run(init)\n",
    "\n",
    "    # loop over test data\n",
    "    for i in range(len(Xte)):\n",
    "        # Get nearest neighbor\n",
    "        nn_index = sess.run(pred, feed_dict={xtr: Xtr, xte: Xte[i, :]})\n",
    "        # Get nearest neighbor class label and compare it to its true label\n",
    "        print(\"Test\", i, \"Prediction:\", np.argmax(Ytr[nn_index]), \\\n",
    "            \"True Class:\", np.argmax(Yte[i]))\n",
    "        # Calculate accuracy\n",
    "        if np.argmax(Ytr[nn_index]) == np.argmax(Yte[i]):\n",
    "            accuracy += 1./len(Xte)\n",
    "        \n",
    "    print(\"Done!\")\n",
    "    print(\"Accuracy:\", accuracy)"
   ]
  },
  {
   "cell_type": "markdown",
   "metadata": {},
   "source": [
    "# "
   ]
  },
  {
   "cell_type": "code",
   "execution_count": null,
   "metadata": {},
   "outputs": [],
   "source": []
  },
  {
   "cell_type": "code",
   "execution_count": null,
   "metadata": {},
   "outputs": [],
   "source": []
  }
 ],
 "metadata": {
  "kernelspec": {
   "display_name": "Python 3",
   "language": "python",
   "name": "python3"
  },
  "language_info": {
   "codemirror_mode": {
    "name": "ipython",
    "version": 3
   },
   "file_extension": ".py",
   "mimetype": "text/x-python",
   "name": "python",
   "nbconvert_exporter": "python",
   "pygments_lexer": "ipython3",
   "version": "3.6.4"
  }
 },
 "nbformat": 4,
 "nbformat_minor": 2
}
